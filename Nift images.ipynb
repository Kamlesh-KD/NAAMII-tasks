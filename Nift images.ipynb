{
 "cells": [
  {
   "cell_type": "code",
   "execution_count": 27,
   "id": "5f335981",
   "metadata": {},
   "outputs": [],
   "source": [
    "# !pip install simpleitk\n",
    "import SimpleITK as sitk\n",
    "import numpy as np\n",
    "import pydicom\n",
    "import scipy.ndimage\n",
    "import random \n",
    "import pandas as pd\n",
    "import os\n",
    "\n",
    "from skimage.segmentation import slic\n",
    "from scipy.ndimage import binary_closing, generate_binary_structure\n",
    "\n",
    "from mirp.extract_features_and_images import extract_features_and_images\n",
    "from mirp._data_import.utilities import flatten_list"
   ]
  },
  {
   "cell_type": "code",
   "execution_count": 3,
   "id": "ace44e0d",
   "metadata": {},
   "outputs": [],
   "source": [
    "ct_image_path = \"/Users/kamleshranabhat/Desktop/NAAMII/Data_nii/S0819_P200944693_0_CT_5_3_CHEST_ABDOMEN_PELVIS_2.nii\"\n",
    "ct_image = sitk.ReadImage(ct_image_path)\n",
    "\n",
    "RTSTRUCT_path = \"/Users/kamleshranabhat/Desktop/NAAMII/Data_nii/S0819_P200944693_0_RTSTRUCT_LUNG_1.nii\"\n",
    "\n",
    "ROI = sitk.ReadImage(RTSTRUCT_path)\n",
    "\n",
    "\n",
    "rtstruct_array = sitk.GetArrayFromImage(ROI)\n",
    "\n",
    "ct_array = sitk.GetArrayFromImage(ct_image)"
   ]
  },
  {
   "cell_type": "code",
   "execution_count": 4,
   "id": "0a7b3e9c",
   "metadata": {},
   "outputs": [
    {
     "name": "stdout",
     "output_type": "stream",
     "text": [
      "CT Image Shape: (128, 512, 512)\n",
      "RTSTRUCT Shape: (128, 512, 512)\n"
     ]
    }
   ],
   "source": [
    "print(\"CT Image Shape:\", ct_array.shape)\n",
    "print(\"RTSTRUCT Shape:\", rtstruct_array.shape)"
   ]
  },
  {
   "cell_type": "code",
   "execution_count": 15,
   "id": "182e6c6b",
   "metadata": {},
   "outputs": [],
   "source": [
    "def rotate_3d_image(image, angle):\n",
    "    \"\"\"\n",
    "    Rotates a 3D image by a given angle around all three axes.\n",
    "\n",
    "    Parameters:\n",
    "    image (SimpleITK.Image): The input 3D image.\n",
    "    angle (float): The rotation angle in degrees.\n",
    "\n",
    "    Returns:\n",
    "    SimpleITK.Image: The rotated 3D image.\n",
    "    \"\"\"\n",
    "    transform = sitk.Euler3DTransform()\n",
    "    angle_rad = np.deg2rad(angle)\n",
    "    transform.SetRotation(angle_rad, angle_rad, angle_rad)\n",
    "\n",
    "    rotated_image = sitk.Resample(image, transform, sitk.sitkLinear, 0.0, image.GetPixelID())\n",
    "    return rotated_image\n",
    "\n",
    "def apply_rotation_and_save(ct_image_path, rtstruct_path, output_filename, angle=10.0):\n",
    "    \"\"\"\n",
    "    Applies rotation to the CT image and ROI, and saves the output.\n",
    "\n",
    "    Parameters:\n",
    "    ct_image_path (str): Path to the CT image file.\n",
    "    rtstruct_path (str): Path to the RTSTRUCT file.\n",
    "    output_filename (str): The base filename for the output.\n",
    "    angle (float): The rotation angle in degrees.\n",
    "    \"\"\"\n",
    "    ct_image = sitk.ReadImage(ct_image_path)\n",
    "    ROI = sitk.ReadImage(rtstruct_path)\n",
    "\n",
    "    rotated_ct_image = rotate_3d_image(ct_image, angle)\n",
    "    rotated_roi = rotate_3d_image(ROI, angle)\n",
    "\n",
    "    sitk.WriteImage(rotated_ct_image, f'/Users/kamleshranabhat/Desktop/NAAMII/Data_nii/rotation_{output_filename}_ct_{angle}.nii')\n",
    "    sitk.WriteImage(rotated_roi, f'/Users/kamleshranabhat/Desktop/NAAMII/Data_nii/rotation_{output_filename}_roi_{angle}.nii')\n"
   ]
  },
  {
   "cell_type": "code",
   "execution_count": 14,
   "id": "5475995e",
   "metadata": {},
   "outputs": [
    {
     "name": "stdout",
     "output_type": "stream",
     "text": [
      "saved\n"
     ]
    }
   ],
   "source": [
    "ct_image_path = \"/Users/kamleshranabhat/Desktop/NAAMII/Data_nii/S0819_P200944693_0_CT_5_3_CHEST_ABDOMEN_PELVIS_2.nii\"\n",
    "rtstruct_path = \"/Users/kamleshranabhat/Desktop/NAAMII/Data_nii/S0819_P200944693_0_RTSTRUCT_LUNG_1.nii\"\n",
    "output_filename = \"S0819_P200944693_0\"\n",
    "\n",
    "apply_rotation_and_save(ct_image_path, rtstruct_path, output_filename)\n"
   ]
  },
  {
   "cell_type": "code",
   "execution_count": 16,
   "id": "4bb40ab9",
   "metadata": {},
   "outputs": [],
   "source": [
    "def translate_3d_image(image, translation):\n",
    "    \"\"\"\n",
    "    Translates a 3D image by given translations along each axis.\n",
    "\n",
    "    Parameters:\n",
    "    image (SimpleITK.Image): The input 3D image.\n",
    "    translation (tuple): A tuple (tx, ty, tz) representing the translation along x, y, and z axes.\n",
    "\n",
    "    Returns:\n",
    "    SimpleITK.Image: The translated 3D image.\n",
    "    \"\"\"\n",
    "    transform = sitk.TranslationTransform(3, translation)\n",
    "    translated_image = sitk.Resample(image, transform, sitk.sitkLinear, 0.0, image.GetPixelID())\n",
    "    return translated_image\n",
    "\n",
    "def apply_translation_and_save(ct_image_path, rtstruct_path, output_filename, translation=(10, 10, 10)):\n",
    "    \"\"\"\n",
    "    Applies translation to the CT image and ROI, and saves the output.\n",
    "\n",
    "    Parameters:\n",
    "    ct_image_path (str): Path to the CT image file.\n",
    "    rtstruct_path (str): Path to the RTSTRUCT file.\n",
    "    output_filename (str): The base filename for the output.\n",
    "    translation (tuple): A tuple (tx, ty, tz) representing the translation along x, y, and z axes.\n",
    "    \"\"\"\n",
    "    ct_image = sitk.ReadImage(ct_image_path)\n",
    "    ROI = sitk.ReadImage(rtstruct_path)\n",
    "\n",
    "    translated_ct_image = translate_3d_image(ct_image, translation)\n",
    "    translated_roi = translate_3d_image(ROI, translation)\n",
    "\n",
    "    sitk.WriteImage(translated_ct_image, f'/Users/kamleshranabhat/Desktop/NAAMII/Data_nii/translation_{output_filename}_ct_{translation}.nii')\n",
    "    sitk.WriteImage(translated_roi, f'/Users/kamleshranabhat/Desktop/NAAMII/Data_nii/translation_{output_filename}_roi_{translation}.nii')\n"
   ]
  },
  {
   "cell_type": "code",
   "execution_count": 17,
   "id": "5e83fadf",
   "metadata": {},
   "outputs": [],
   "source": [
    "ct_image_path = \"/Users/kamleshranabhat/Desktop/NAAMII/Data_nii/S0819_P200944693_0_CT_5_3_CHEST_ABDOMEN_PELVIS_2.nii\"\n",
    "rtstruct_path = \"/Users/kamleshranabhat/Desktop/NAAMII/Data_nii/S0819_P200944693_0_RTSTRUCT_LUNG_1.nii\"\n",
    "output_filename = \"S0819_P200944693_0\"\n",
    "\n",
    "apply_translation_and_save(ct_image_path, rtstruct_path, output_filename)\n"
   ]
  },
  {
   "cell_type": "code",
   "execution_count": 5,
   "id": "434960e4",
   "metadata": {},
   "outputs": [],
   "source": [
    "def volume_adaptation(mask, T):\n",
    "    V0 = np.sum(mask)\n",
    "    Va = int(np.floor(V0 * (1 + T)))\n",
    "    \n",
    "    struct_elem = scipy.ndimage.generate_binary_structure(3, 1)\n",
    "    Rp = mask.copy()\n",
    "    Vp = V0\n",
    "\n",
    "    while True:\n",
    "        if T > 0.0:\n",
    "            Rn = scipy.ndimage.binary_dilation(Rp, structure=struct_elem).astype(Rp.dtype)\n",
    "        else:\n",
    "            Rn = scipy.ndimage.binary_erosion(Rp, structure=struct_elem).astype(Rp.dtype)\n",
    "        \n",
    "        Vn = np.sum(Rn)\n",
    "\n",
    "        if Vn == 0 or (T > 0.0 and Vn > Va) or (T < 0.0 and Vn < Va):\n",
    "            break\n",
    "\n",
    "        Rp = Rn.copy()\n",
    "        Vp = Vn\n",
    "\n",
    "    if Vn != Va:\n",
    "        N = int(abs(Va - Vp))  # Ensure N is an integer\n",
    "        Rr = np.logical_xor(Rn, Rp).astype(np.uint8)\n",
    "        rim_voxels = np.column_stack(np.where(Rr))\n",
    "        if N > 0 and rim_voxels.shape[0] > 0:\n",
    "            random_voxels = rim_voxels[np.random.choice(rim_voxels.shape[0], N, replace=False)]\n",
    "\n",
    "            if T > 0.0:\n",
    "                Rp[tuple(random_voxels.T)] = 1\n",
    "            else:\n",
    "                Rp[tuple(random_voxels.T)] = 0\n",
    "\n",
    "    return Rp\n"
   ]
  },
  {
   "cell_type": "code",
   "execution_count": 8,
   "id": "505dbd28",
   "metadata": {},
   "outputs": [
    {
     "name": "stdout",
     "output_type": "stream",
     "text": [
      "Original volume: 68441\n",
      "Adapted volume: 34220\n"
     ]
    }
   ],
   "source": [
    "ct_image_path = \"/Users/kamleshranabhat/Desktop/Data_nii/S0819_P200944693_0_CT_5_3_CHEST_ABDOMEN_PELVIS_2.nii\"\n",
    "ct_image = sitk.ReadImage(ct_image_path)\n",
    "\n",
    "RTSTRUCT_path = \"/Users/kamleshranabhat/Desktop/Data_nii/S0819_P200944693_0_RTSTRUCT_LUNG_1.nii\"\n",
    "ROI = sitk.ReadImage(RTSTRUCT_path)\n",
    "\n",
    "ct_image_array = sitk.GetArrayFromImage(ct_image)\n",
    "ROI_array = sitk.GetArrayFromImage(ROI)\n",
    "\n",
    "mask = ROI_array.astype(np.uint8)\n",
    "\n",
    "T = -0.5\n",
    "\n",
    "adapted_mask = volume_adaptation(mask, T)\n",
    "\n",
    "adapted_mask_image = sitk.GetImageFromArray(adapted_mask)\n",
    "adapted_mask_image.CopyInformation(ROI)\n",
    "\n",
    "adapted_RTSTRUCT_path = \"/Users/kamleshranabhat/Desktop/Data_nii/Adapted_RTSTRUCT_LUNG_neg05.nii\"\n",
    "sitk.WriteImage(adapted_mask_image, adapted_RTSTRUCT_path)\n",
    "\n",
    "print(\"Original volume:\", np.sum(mask))\n",
    "print(\"Adapted volume:\", np.sum(adapted_mask))\n"
   ]
  },
  {
   "cell_type": "code",
   "execution_count": 49,
   "id": "ecf3b1e8",
   "metadata": {},
   "outputs": [],
   "source": [
    "def crop_to_roi(image, mask, crop_margin_mm=25):\n",
    "    spacing = image.GetSpacing()\n",
    "    margin_voxels = np.array(crop_margin_mm / np.array(spacing), dtype=int)\n",
    "\n",
    "    image_array = sitk.GetArrayFromImage(image)\n",
    "    mask_array = sitk.GetArrayFromImage(mask)\n",
    "\n",
    "    roi_indices = np.where(mask_array > 0)\n",
    "    min_idx = np.maximum(np.min(roi_indices, axis=1) - margin_voxels, 0)\n",
    "    max_idx = np.minimum(np.max(roi_indices, axis=1) + margin_voxels, np.array(mask_array.shape) - 1)\n",
    "\n",
    "    cropped_image_array = image_array[min_idx[0]:max_idx[0]+1, min_idx[1]:max_idx[1]+1, min_idx[2]:max_idx[2]+1]\n",
    "    cropped_mask_array = mask_array[min_idx[0]:max_idx[0]+1, min_idx[1]:max_idx[1]+1, min_idx[2]:max_idx[2]+1]\n",
    "\n",
    "    cropped_image = sitk.GetImageFromArray(cropped_image_array)\n",
    "    cropped_image.SetSpacing(image.GetSpacing())\n",
    "    cropped_image.SetOrigin(image.GetOrigin())\n",
    "    cropped_image.SetDirection(image.GetDirection())\n",
    "\n",
    "    cropped_mask = sitk.GetImageFromArray(cropped_mask_array)\n",
    "    cropped_mask.SetSpacing(mask.GetSpacing())\n",
    "    cropped_mask.SetOrigin(mask.GetOrigin())\n",
    "    cropped_mask.SetDirection(mask.GetDirection())\n",
    "\n",
    "    return cropped_image, cropped_mask"
   ]
  },
  {
   "cell_type": "code",
   "execution_count": 88,
   "id": "ff13bdc3",
   "metadata": {},
   "outputs": [],
   "source": [
    "def add_random_noise_to_mask(mask_array, noise_level=0.01):\n",
    "    \"\"\"\n",
    "    Add random noise to the mask. \n",
    "    `noise_level` controls the amount of noise.\n",
    "    \"\"\"\n",
    "    noise = np.random.rand(*mask_array.shape)\n",
    "    \n",
    "    noisy_mask = np.where(noise < noise_level, 1, mask_array).astype(np.uint8)\n",
    "    \n",
    "    return noisy_mask\n",
    "\n",
    "def apply_contour_randomization(cropped_image, cropped_mask, noise_level=0.01, output_dir='./'):\n",
    "    \"\"\"\n",
    "    Apply random noise to the mask and save the result.\n",
    "    \"\"\"\n",
    "    cropped_mask_array = sitk.GetArrayFromImage(cropped_mask)\n",
    "    \n",
    "    noisy_mask_array = add_random_noise_to_mask(cropped_mask_array, noise_level)\n",
    "    \n",
    "    noisy_mask = sitk.GetImageFromArray(noisy_mask_array)\n",
    "    noisy_mask.SetSpacing(cropped_mask.GetSpacing())\n",
    "    noisy_mask.SetOrigin(cropped_mask.GetOrigin())\n",
    "    noisy_mask.SetDirection(cropped_mask.GetDirection())\n",
    "    \n",
    "    rotated_roi = rotate_3d_image(noisy_mask, 3)\n",
    "    translated_roi = translate_3d_image(rotated_roi, (2,2,2))\n",
    "    \n",
    "    return translated_roi\n"
   ]
  },
  {
   "cell_type": "code",
   "execution_count": 97,
   "id": "98a1b808",
   "metadata": {},
   "outputs": [],
   "source": [
    "def apply_crop_and_randomize(ct_image_path, rtstruct_path, output_filename, crop_margin_mm=25, randomize_repetitions=1, rotation_angle=0.0):\n",
    "    ct_image = sitk.ReadImage(ct_image_path)\n",
    "    rtstruct_image = sitk.ReadImage(rtstruct_path)\n",
    "    \n",
    "    cropped_ct_image, cropped_rtstruct_image = crop_to_roi(ct_image, rtstruct_image, crop_margin_mm=crop_margin_mm)\n",
    "    \n",
    "    randomized_rtstruct_image = apply_contour_randomization(cropped_ct_image, cropped_rtstruct_image)\n",
    "    \n",
    "    sitk.WriteImage(cropped_ct_image, f\"/Users/kamleshranabhat/Desktop/NAAMII/Data_nii/cropped_ct_S0819_P200944693_0_CT_5_3_CHEST_ABDOMEN_PELVIS_2.nii\")\n",
    "    sitk.WriteImage(cropped_rtstruct_image, f\"/Users/kamleshranabhat/Desktop/NAAMII/Data_nii/cropped_roi_S0819_P200944693_0_RTSTRUCT_LUNG_1.nii\")\n",
    "    sitk.WriteImage(randomized_rtstruct_image, f\"/Users/kamleshranabhat/Desktop/NAAMII/Data_nii/randomized_rtstruct_S0819_P200944693_0_RTSTRUCT_LUNG_1.nii\")\n"
   ]
  },
  {
   "cell_type": "code",
   "execution_count": 98,
   "id": "9226ff05",
   "metadata": {},
   "outputs": [],
   "source": [
    "ct_image_path = \"/Users/kamleshranabhat/Desktop/NAAMII/Data_nii/S0819_P200944693_0_CT_5_3_CHEST_ABDOMEN_PELVIS_2.nii\"\n",
    "rtstruct_path = \"/Users/kamleshranabhat/Desktop/NAAMII/Data_nii/S0819_P200944693_0_RTSTRUCT_LUNG_1.nii\"\n",
    "output_filename = \"S0819_P200944693_0\"\n",
    "\n",
    "apply_crop_and_randomize(ct_image_path, rtstruct_path, output_filename, crop_margin_mm=25, randomize_repetitions=2, rotation_angle=45.0)"
   ]
  },
  {
   "cell_type": "code",
   "execution_count": null,
   "id": "775ab526",
   "metadata": {},
   "outputs": [],
   "source": []
  },
  {
   "cell_type": "code",
   "execution_count": null,
   "id": "43476feb",
   "metadata": {},
   "outputs": [],
   "source": []
  }
 ],
 "metadata": {
  "kernelspec": {
   "display_name": "Python 3 (ipykernel)",
   "language": "python",
   "name": "python3"
  },
  "language_info": {
   "codemirror_mode": {
    "name": "ipython",
    "version": 3
   },
   "file_extension": ".py",
   "mimetype": "text/x-python",
   "name": "python",
   "nbconvert_exporter": "python",
   "pygments_lexer": "ipython3",
   "version": "3.11.5"
  }
 },
 "nbformat": 4,
 "nbformat_minor": 5
}
