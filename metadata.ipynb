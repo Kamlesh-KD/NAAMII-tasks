{
 "cells": [
  {
   "cell_type": "code",
   "execution_count": 1,
   "id": "0fe32c05",
   "metadata": {},
   "outputs": [],
   "source": [
    "dcm_path = \"/Users/kamleshranabhat/Desktop/0000a175-0e68-4ca4-b1af-167204a7e0bc.dcm\"\n",
    "save_path = \"/Users/kamleshranabhat/Desktop/dcm_to_png.png\"\n",
    "\n"
   ]
  },
  {
   "cell_type": "code",
   "execution_count": 2,
   "id": "5a7e5c65",
   "metadata": {},
   "outputs": [
    {
     "name": "stdout",
     "output_type": "stream",
     "text": [
      "Saved coronal view as /Users/kamleshranabhat/Desktop/dcm_to_png.png\n"
     ]
    }
   ],
   "source": [
    "import pydicom\n",
    "import numpy as np\n",
    "from PIL import Image\n",
    "\n",
    "def save_dcm_as_png(dicom_path, output_path):\n",
    "    dicom_data = pydicom.dcmread(dicom_path)\n",
    "    \n",
    "    pixel_array = dicom_data.pixel_array\n",
    "    \n",
    "    pixel_array = (pixel_array - np.min(pixel_array)) / (np.max(pixel_array) - np.min(pixel_array)) * 255\n",
    "    pixel_array = pixel_array.astype(np.uint8)\n",
    "    \n",
    "    image = Image.fromarray(pixel_array)\n",
    "    image.save(png_output_path)\n",
    "\n",
    "save_dcm_as_png(dcm_path, save_path)"
   ]
  },
  {
   "cell_type": "code",
   "execution_count": null,
   "id": "be28fade",
   "metadata": {},
   "outputs": [],
   "source": []
  }
 ],
 "metadata": {
  "kernelspec": {
   "display_name": "Python 3 (ipykernel)",
   "language": "python",
   "name": "python3"
  },
  "language_info": {
   "codemirror_mode": {
    "name": "ipython",
    "version": 3
   },
   "file_extension": ".py",
   "mimetype": "text/x-python",
   "name": "python",
   "nbconvert_exporter": "python",
   "pygments_lexer": "ipython3",
   "version": "3.11.5"
  }
 },
 "nbformat": 4,
 "nbformat_minor": 5
}
